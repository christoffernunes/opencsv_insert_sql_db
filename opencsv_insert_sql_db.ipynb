{
 "cells": [
  {
   "cell_type": "code",
   "execution_count": 7,
   "id": "623cfa09",
   "metadata": {},
   "outputs": [
    {
     "ename": "InterfaceError",
     "evalue": "('28000', \"[28000] [Microsoft][ODBC Driver 17 for SQL Server][SQL Server]Falha de logon do usuário 'sa'. (18456) (SQLDriverConnect); [28000] [Microsoft][ODBC Driver 17 for SQL Server][SQL Server]Falha de logon do usuário 'sa'. (18456)\")",
     "output_type": "error",
     "traceback": [
      "\u001b[1;31m---------------------------------------------------------------------------\u001b[0m",
      "\u001b[1;31mInterfaceError\u001b[0m                            Traceback (most recent call last)",
      "Input \u001b[1;32mIn [7]\u001b[0m, in \u001b[0;36m<cell line: 34>\u001b[1;34m()\u001b[0m\n\u001b[0;32m     31\u001b[0m         \u001b[38;5;28;01mreturn\u001b[39;00m cnxn_str\n\u001b[0;32m     33\u001b[0m \u001b[38;5;66;03m#invoke connect function from pyodbc\u001b[39;00m\n\u001b[1;32m---> 34\u001b[0m cnxn \u001b[38;5;241m=\u001b[39m \u001b[43mpyodbc\u001b[49m\u001b[38;5;241;43m.\u001b[39;49m\u001b[43mconnect\u001b[49m\u001b[43m(\u001b[49m\u001b[43mconnect_to_database\u001b[49m\u001b[43m(\u001b[49m\u001b[38;5;124;43m\"\u001b[39;49m\u001b[38;5;124;43mODBC Driver 17 for SQL Server\u001b[39;49m\u001b[38;5;124;43m\"\u001b[39;49m\u001b[43m,\u001b[49m\u001b[43m \u001b[49m\u001b[38;5;124;43m\"\u001b[39;49m\u001b[38;5;124;43mlocalhost\u001b[39;49m\u001b[38;5;124;43m\"\u001b[39;49m\u001b[43m,\u001b[49m\u001b[43m \u001b[49m\u001b[38;5;124;43m\"\u001b[39;49m\u001b[38;5;124;43mmaster\u001b[39;49m\u001b[38;5;124;43m\"\u001b[39;49m\u001b[43m,\u001b[49m\u001b[43m \u001b[49m\u001b[38;5;124;43m\"\u001b[39;49m\u001b[38;5;124;43msa\u001b[39;49m\u001b[38;5;124;43m\"\u001b[39;49m\u001b[43m,\u001b[49m\u001b[43m \u001b[49m\u001b[38;5;124;43m\"\u001b[39;49m\u001b[38;5;124;43m\"\u001b[39;49m\u001b[43m)\u001b[49m\u001b[43m)\u001b[49m\n\u001b[0;32m     35\u001b[0m cursor \u001b[38;5;241m=\u001b[39m cnxn\u001b[38;5;241m.\u001b[39mcursor()\n\u001b[0;32m     37\u001b[0m \u001b[38;5;66;03m#improve insertion speed\u001b[39;00m\n",
      "\u001b[1;31mInterfaceError\u001b[0m: ('28000', \"[28000] [Microsoft][ODBC Driver 17 for SQL Server][SQL Server]Falha de logon do usuário 'sa'. (18456) (SQLDriverConnect); [28000] [Microsoft][ODBC Driver 17 for SQL Server][SQL Server]Falha de logon do usuário 'sa'. (18456)\")"
     ]
    }
   ],
   "source": [
    "import pandas as pd\n",
    "import pyodbc\n",
    "import uuid\n",
    "\n",
    "#import our customers.csv (obs: no dashes necessary, root folder)\n",
    "customers = pd.read_csv(\"customers.csv\")\n",
    "\n",
    "df = pd.DataFrame(customers, columns=['name', 'phone', 'email', 'address'])\n",
    "\n",
    "\n",
    "#verify if dataFrame has no rows\n",
    "if len(df) == 0:\n",
    "    sys.exit(\"DataFrame is empty\")\n",
    "\n",
    "# Script to create table Customer\n",
    "\n",
    "#CREATE TABLE Customer (\n",
    "#  _id int NOT NULL    IDENTITY    PRIMARY KEY,\n",
    "#[Name] [nvarchar](300) NULL,\n",
    "#[Phone] [nvarchar](300) NULL,\n",
    "#[Email] [nvarchar](300) NULL,\n",
    "#[Address] [nvarchar](300) NULL)\n",
    "\n",
    "#function generic to connect a database\n",
    "def connect_to_database(driver, server, db, uid, pwd):\n",
    "        cnxn_str = (f\"Driver={driver};\" \n",
    "        f\"Server={server};\" \n",
    "        f\"Database={db};\" \n",
    "        f\"UID={uid};\" \n",
    "        f\"PWD={pwd};\"\n",
    "                   f\"Trusted_Connection=yes;\")\n",
    "        return cnxn_str\n",
    "\n",
    "#invoke connect function from pyodbc\n",
    "cnxn = pyodbc.connect(connect_to_database(\"ODBC Driver 17 for SQL Server\", \"localhost\", \"master\", \"sa\", \"really\"))\n",
    "cursor = cnxn.cursor()\n",
    "\n",
    "#improve insertion speed\n",
    "cursor.fast_executemany = True\n",
    "\n",
    "cursor.executemany(f\"INSERT INTO Customer (Name, Phone, Email, Address) values(?,?,?,?)\", df.values.tolist())\n",
    "\n",
    "cnxn.commit()\n",
    "cursor.close()  \n"
   ]
  },
  {
   "cell_type": "code",
   "execution_count": null,
   "id": "8038445b",
   "metadata": {},
   "outputs": [],
   "source": []
  }
 ],
 "metadata": {
  "kernelspec": {
   "display_name": "Python 3 (ipykernel)",
   "language": "python",
   "name": "python3"
  },
  "language_info": {
   "codemirror_mode": {
    "name": "ipython",
    "version": 3
   },
   "file_extension": ".py",
   "mimetype": "text/x-python",
   "name": "python",
   "nbconvert_exporter": "python",
   "pygments_lexer": "ipython3",
   "version": "3.9.12"
  }
 },
 "nbformat": 4,
 "nbformat_minor": 5
}
