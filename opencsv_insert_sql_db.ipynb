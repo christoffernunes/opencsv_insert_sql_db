{
 "cells": [
  {
   "cell_type": "code",
   "execution_count": 57,
   "id": "623cfa09",
   "metadata": {},
   "outputs": [
    {
     "name": "stdout",
     "output_type": "stream",
     "text": [
      "[['Zachary Sykes', '1-301-164-4632', 'at.velit@protonmail.couk', 'Ap #239-5746 Integer Av.'], ['Chadwick Mcfarland', '1-714-452-8456', 'a.purus.duis@aol.ca', 'Ap #581-9456 Ac Street'], ['Dai Ayala', '(555) 320-1227', 'nunc.ac@icloud.couk', 'Ap #406-7532 Nunc Avenue'], ['Nehru Dale', '(254) 683-1355', 'penatibus.et@hotmail.couk', '4255 Orci St.'], ['Hadassah Snider', '1-196-928-1748', 'phasellus.at@hotmail.com', 'Ap #941-9770 Est, Av.']]\n"
     ]
    }
   ],
   "source": [
    "import pandas as pd\n",
    "import pyodbc\n",
    "import uuid\n",
    "\n",
    "#import our customers.csv (obs: no dashes necessary, root folder)\n",
    "customers = pd.read_csv(\"customers.csv\")\n",
    "\n",
    "df = pd.DataFrame(customers, columns=['name', 'phone', 'email', 'address'])\n",
    "\n",
    "\n",
    "#verify if dataFrame has no rows\n",
    "if len(df) == 0:\n",
    "    sys.exit(\"DataFrame is empty\")\n",
    "\n",
    "# Script to create table Customer\n",
    "\n",
    "#CREATE TABLE Customer (\n",
    "#  _id int NOT NULL    IDENTITY    PRIMARY KEY,\n",
    "#[Name] [nvarchar](300) NULL,\n",
    "#[Phone] [nvarchar](300) NULL,\n",
    "#[Email] [nvarchar](300) NULL,\n",
    "#[Address] [nvarchar](300) NULL)\n",
    "\n",
    "#function generic to connect a database\n",
    "def connect_to_database(driver, server, db, uid, pwd):\n",
    "        cnxn_str = (f\"Driver={driver};\" \n",
    "        f\"Server={server};\" \n",
    "        f\"Database={db};\" \n",
    "        f\"UID={uid};\" \n",
    "        f\"PWD={pwd};\")\n",
    "        return cnxn_str\n",
    "\n",
    "#invoke connect function from pyodbc\n",
    "cnxn = pyodbc.connect(connect_to_database(\"ODBC Driver 17 for SQL Server\", \"127.0.0.1,1433\", \"master\", \"sa\", \"reallyStrongPwd123\"))\n",
    "cursor = cnxn.cursor()\n",
    "\n",
    "#improve insertion speed\n",
    "cursor.fast_executemany = True\n",
    "\n",
    "cursor.executemany(f\"INSERT INTO Customer (Name, Phone, Email, Address) values(?,?,?,?)\", df.values.tolist())\n",
    "\n",
    "cnxn.commit()\n",
    "cursor.close()  \n"
   ]
  },
  {
   "cell_type": "code",
   "execution_count": null,
   "id": "8038445b",
   "metadata": {},
   "outputs": [],
   "source": []
  }
 ],
 "metadata": {
  "kernelspec": {
   "display_name": "Python 3 (ipykernel)",
   "language": "python",
   "name": "python3"
  },
  "language_info": {
   "codemirror_mode": {
    "name": "ipython",
    "version": 3
   },
   "file_extension": ".py",
   "mimetype": "text/x-python",
   "name": "python",
   "nbconvert_exporter": "python",
   "pygments_lexer": "ipython3",
   "version": "3.9.12"
  }
 },
 "nbformat": 4,
 "nbformat_minor": 5
}
